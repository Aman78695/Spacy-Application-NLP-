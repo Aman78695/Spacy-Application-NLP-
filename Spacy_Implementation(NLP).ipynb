{
  "nbformat": 4,
  "nbformat_minor": 0,
  "metadata": {
    "colab": {
      "provenance": [],
      "authorship_tag": "ABX9TyO8B7DtxPbjNRU0mJIskzTM",
      "include_colab_link": true
    },
    "kernelspec": {
      "name": "python3",
      "display_name": "Python 3"
    },
    "language_info": {
      "name": "python"
    }
  },
  "cells": [
    {
      "cell_type": "markdown",
      "metadata": {
        "id": "view-in-github",
        "colab_type": "text"
      },
      "source": [
        "<a href=\"https://colab.research.google.com/github/Aman78695/Spacy-Application-NLP-/blob/main/Spacy_Implementation(NLP).ipynb\" target=\"_parent\"><img src=\"https://colab.research.google.com/assets/colab-badge.svg\" alt=\"Open In Colab\"/></a>"
      ]
    },
    {
      "cell_type": "code",
      "execution_count": null,
      "metadata": {
        "colab": {
          "base_uri": "https://localhost:8080/"
        },
        "id": "OFAXH2S0BryQ",
        "outputId": "cb531abf-df98-482c-ef77-b1b650228d95"
      },
      "outputs": [
        {
          "output_type": "stream",
          "name": "stderr",
          "text": [
            "/usr/local/lib/python3.8/dist-packages/torch/cuda/__init__.py:497: UserWarning: Can't initialize NVML\n",
            "  warnings.warn(\"Can't initialize NVML\")\n"
          ]
        }
      ],
      "source": [
        "import numpy as np\n",
        "import pandas as pd\n",
        "import nltk\n",
        "import spacy\n",
        "nlp=spacy.load('en_core_web_sm')"
      ]
    },
    {
      "cell_type": "code",
      "source": [
        "df=pd.read_csv('/content/sample.csv')"
      ],
      "metadata": {
        "id": "25JYFZkFCS57"
      },
      "execution_count": null,
      "outputs": []
    },
    {
      "cell_type": "code",
      "source": [
        "df.head()"
      ],
      "metadata": {
        "colab": {
          "base_uri": "https://localhost:8080/",
          "height": 337
        },
        "id": "8PROvzN1CYpX",
        "outputId": "7bcc92d3-8df4-4012-e755-0b3740073f88"
      },
      "execution_count": null,
      "outputs": [
        {
          "output_type": "execute_result",
          "data": {
            "text/plain": [
              "   tweet_id     author_id  inbound                      created_at  \\\n",
              "0    119237        105834     True  Wed Oct 11 06:55:44 +0000 2017   \n",
              "1    119238  ChaseSupport    False  Wed Oct 11 13:25:49 +0000 2017   \n",
              "2    119239        105835     True  Wed Oct 11 13:00:09 +0000 2017   \n",
              "3    119240  VirginTrains    False  Tue Oct 10 15:16:08 +0000 2017   \n",
              "4    119241        105836     True  Tue Oct 10 15:17:21 +0000 2017   \n",
              "\n",
              "                                                text response_tweet_id  \\\n",
              "0  @AppleSupport causing the reply to be disregar...            119236   \n",
              "1  @105835 Your business means a lot to us. Pleas...               NaN   \n",
              "2  @76328 I really hope you all change but I'm su...            119238   \n",
              "3  @105836 LiveChat is online at the moment - htt...            119241   \n",
              "4  @VirginTrains see attached error message. I've...            119243   \n",
              "\n",
              "   in_response_to_tweet_id  \n",
              "0                      NaN  \n",
              "1                 119239.0  \n",
              "2                      NaN  \n",
              "3                 119242.0  \n",
              "4                 119240.0  "
            ],
            "text/html": [
              "\n",
              "  <div id=\"df-ecef7e84-f6b4-40f5-b628-e05ef0104a46\">\n",
              "    <div class=\"colab-df-container\">\n",
              "      <div>\n",
              "<style scoped>\n",
              "    .dataframe tbody tr th:only-of-type {\n",
              "        vertical-align: middle;\n",
              "    }\n",
              "\n",
              "    .dataframe tbody tr th {\n",
              "        vertical-align: top;\n",
              "    }\n",
              "\n",
              "    .dataframe thead th {\n",
              "        text-align: right;\n",
              "    }\n",
              "</style>\n",
              "<table border=\"1\" class=\"dataframe\">\n",
              "  <thead>\n",
              "    <tr style=\"text-align: right;\">\n",
              "      <th></th>\n",
              "      <th>tweet_id</th>\n",
              "      <th>author_id</th>\n",
              "      <th>inbound</th>\n",
              "      <th>created_at</th>\n",
              "      <th>text</th>\n",
              "      <th>response_tweet_id</th>\n",
              "      <th>in_response_to_tweet_id</th>\n",
              "    </tr>\n",
              "  </thead>\n",
              "  <tbody>\n",
              "    <tr>\n",
              "      <th>0</th>\n",
              "      <td>119237</td>\n",
              "      <td>105834</td>\n",
              "      <td>True</td>\n",
              "      <td>Wed Oct 11 06:55:44 +0000 2017</td>\n",
              "      <td>@AppleSupport causing the reply to be disregar...</td>\n",
              "      <td>119236</td>\n",
              "      <td>NaN</td>\n",
              "    </tr>\n",
              "    <tr>\n",
              "      <th>1</th>\n",
              "      <td>119238</td>\n",
              "      <td>ChaseSupport</td>\n",
              "      <td>False</td>\n",
              "      <td>Wed Oct 11 13:25:49 +0000 2017</td>\n",
              "      <td>@105835 Your business means a lot to us. Pleas...</td>\n",
              "      <td>NaN</td>\n",
              "      <td>119239.0</td>\n",
              "    </tr>\n",
              "    <tr>\n",
              "      <th>2</th>\n",
              "      <td>119239</td>\n",
              "      <td>105835</td>\n",
              "      <td>True</td>\n",
              "      <td>Wed Oct 11 13:00:09 +0000 2017</td>\n",
              "      <td>@76328 I really hope you all change but I'm su...</td>\n",
              "      <td>119238</td>\n",
              "      <td>NaN</td>\n",
              "    </tr>\n",
              "    <tr>\n",
              "      <th>3</th>\n",
              "      <td>119240</td>\n",
              "      <td>VirginTrains</td>\n",
              "      <td>False</td>\n",
              "      <td>Tue Oct 10 15:16:08 +0000 2017</td>\n",
              "      <td>@105836 LiveChat is online at the moment - htt...</td>\n",
              "      <td>119241</td>\n",
              "      <td>119242.0</td>\n",
              "    </tr>\n",
              "    <tr>\n",
              "      <th>4</th>\n",
              "      <td>119241</td>\n",
              "      <td>105836</td>\n",
              "      <td>True</td>\n",
              "      <td>Tue Oct 10 15:17:21 +0000 2017</td>\n",
              "      <td>@VirginTrains see attached error message. I've...</td>\n",
              "      <td>119243</td>\n",
              "      <td>119240.0</td>\n",
              "    </tr>\n",
              "  </tbody>\n",
              "</table>\n",
              "</div>\n",
              "      <button class=\"colab-df-convert\" onclick=\"convertToInteractive('df-ecef7e84-f6b4-40f5-b628-e05ef0104a46')\"\n",
              "              title=\"Convert this dataframe to an interactive table.\"\n",
              "              style=\"display:none;\">\n",
              "        \n",
              "  <svg xmlns=\"http://www.w3.org/2000/svg\" height=\"24px\"viewBox=\"0 0 24 24\"\n",
              "       width=\"24px\">\n",
              "    <path d=\"M0 0h24v24H0V0z\" fill=\"none\"/>\n",
              "    <path d=\"M18.56 5.44l.94 2.06.94-2.06 2.06-.94-2.06-.94-.94-2.06-.94 2.06-2.06.94zm-11 1L8.5 8.5l.94-2.06 2.06-.94-2.06-.94L8.5 2.5l-.94 2.06-2.06.94zm10 10l.94 2.06.94-2.06 2.06-.94-2.06-.94-.94-2.06-.94 2.06-2.06.94z\"/><path d=\"M17.41 7.96l-1.37-1.37c-.4-.4-.92-.59-1.43-.59-.52 0-1.04.2-1.43.59L10.3 9.45l-7.72 7.72c-.78.78-.78 2.05 0 2.83L4 21.41c.39.39.9.59 1.41.59.51 0 1.02-.2 1.41-.59l7.78-7.78 2.81-2.81c.8-.78.8-2.07 0-2.86zM5.41 20L4 18.59l7.72-7.72 1.47 1.35L5.41 20z\"/>\n",
              "  </svg>\n",
              "      </button>\n",
              "      \n",
              "  <style>\n",
              "    .colab-df-container {\n",
              "      display:flex;\n",
              "      flex-wrap:wrap;\n",
              "      gap: 12px;\n",
              "    }\n",
              "\n",
              "    .colab-df-convert {\n",
              "      background-color: #E8F0FE;\n",
              "      border: none;\n",
              "      border-radius: 50%;\n",
              "      cursor: pointer;\n",
              "      display: none;\n",
              "      fill: #1967D2;\n",
              "      height: 32px;\n",
              "      padding: 0 0 0 0;\n",
              "      width: 32px;\n",
              "    }\n",
              "\n",
              "    .colab-df-convert:hover {\n",
              "      background-color: #E2EBFA;\n",
              "      box-shadow: 0px 1px 2px rgba(60, 64, 67, 0.3), 0px 1px 3px 1px rgba(60, 64, 67, 0.15);\n",
              "      fill: #174EA6;\n",
              "    }\n",
              "\n",
              "    [theme=dark] .colab-df-convert {\n",
              "      background-color: #3B4455;\n",
              "      fill: #D2E3FC;\n",
              "    }\n",
              "\n",
              "    [theme=dark] .colab-df-convert:hover {\n",
              "      background-color: #434B5C;\n",
              "      box-shadow: 0px 1px 3px 1px rgba(0, 0, 0, 0.15);\n",
              "      filter: drop-shadow(0px 1px 2px rgba(0, 0, 0, 0.3));\n",
              "      fill: #FFFFFF;\n",
              "    }\n",
              "  </style>\n",
              "\n",
              "      <script>\n",
              "        const buttonEl =\n",
              "          document.querySelector('#df-ecef7e84-f6b4-40f5-b628-e05ef0104a46 button.colab-df-convert');\n",
              "        buttonEl.style.display =\n",
              "          google.colab.kernel.accessAllowed ? 'block' : 'none';\n",
              "\n",
              "        async function convertToInteractive(key) {\n",
              "          const element = document.querySelector('#df-ecef7e84-f6b4-40f5-b628-e05ef0104a46');\n",
              "          const dataTable =\n",
              "            await google.colab.kernel.invokeFunction('convertToInteractive',\n",
              "                                                     [key], {});\n",
              "          if (!dataTable) return;\n",
              "\n",
              "          const docLinkHtml = 'Like what you see? Visit the ' +\n",
              "            '<a target=\"_blank\" href=https://colab.research.google.com/notebooks/data_table.ipynb>data table notebook</a>'\n",
              "            + ' to learn more about interactive tables.';\n",
              "          element.innerHTML = '';\n",
              "          dataTable['output_type'] = 'display_data';\n",
              "          await google.colab.output.renderOutput(dataTable, element);\n",
              "          const docLink = document.createElement('div');\n",
              "          docLink.innerHTML = docLinkHtml;\n",
              "          element.appendChild(docLink);\n",
              "        }\n",
              "      </script>\n",
              "    </div>\n",
              "  </div>\n",
              "  "
            ]
          },
          "metadata": {},
          "execution_count": 3
        }
      ]
    },
    {
      "cell_type": "code",
      "source": [
        "df=df[['text']]"
      ],
      "metadata": {
        "id": "r_9bqZo-Cd7P"
      },
      "execution_count": null,
      "outputs": []
    },
    {
      "cell_type": "code",
      "source": [
        "df.head()"
      ],
      "metadata": {
        "colab": {
          "base_uri": "https://localhost:8080/",
          "height": 206
        },
        "id": "0mDRjskkCx5H",
        "outputId": "c39ec7d0-c664-4347-e2c4-2a91690f3c46"
      },
      "execution_count": null,
      "outputs": [
        {
          "output_type": "execute_result",
          "data": {
            "text/plain": [
              "                                                text\n",
              "0  @AppleSupport causing the reply to be disregar...\n",
              "1  @105835 Your business means a lot to us. Pleas...\n",
              "2  @76328 I really hope you all change but I'm su...\n",
              "3  @105836 LiveChat is online at the moment - htt...\n",
              "4  @VirginTrains see attached error message. I've..."
            ],
            "text/html": [
              "\n",
              "  <div id=\"df-e1644dff-797e-4f63-b2ea-3ef2e87cddeb\">\n",
              "    <div class=\"colab-df-container\">\n",
              "      <div>\n",
              "<style scoped>\n",
              "    .dataframe tbody tr th:only-of-type {\n",
              "        vertical-align: middle;\n",
              "    }\n",
              "\n",
              "    .dataframe tbody tr th {\n",
              "        vertical-align: top;\n",
              "    }\n",
              "\n",
              "    .dataframe thead th {\n",
              "        text-align: right;\n",
              "    }\n",
              "</style>\n",
              "<table border=\"1\" class=\"dataframe\">\n",
              "  <thead>\n",
              "    <tr style=\"text-align: right;\">\n",
              "      <th></th>\n",
              "      <th>text</th>\n",
              "    </tr>\n",
              "  </thead>\n",
              "  <tbody>\n",
              "    <tr>\n",
              "      <th>0</th>\n",
              "      <td>@AppleSupport causing the reply to be disregar...</td>\n",
              "    </tr>\n",
              "    <tr>\n",
              "      <th>1</th>\n",
              "      <td>@105835 Your business means a lot to us. Pleas...</td>\n",
              "    </tr>\n",
              "    <tr>\n",
              "      <th>2</th>\n",
              "      <td>@76328 I really hope you all change but I'm su...</td>\n",
              "    </tr>\n",
              "    <tr>\n",
              "      <th>3</th>\n",
              "      <td>@105836 LiveChat is online at the moment - htt...</td>\n",
              "    </tr>\n",
              "    <tr>\n",
              "      <th>4</th>\n",
              "      <td>@VirginTrains see attached error message. I've...</td>\n",
              "    </tr>\n",
              "  </tbody>\n",
              "</table>\n",
              "</div>\n",
              "      <button class=\"colab-df-convert\" onclick=\"convertToInteractive('df-e1644dff-797e-4f63-b2ea-3ef2e87cddeb')\"\n",
              "              title=\"Convert this dataframe to an interactive table.\"\n",
              "              style=\"display:none;\">\n",
              "        \n",
              "  <svg xmlns=\"http://www.w3.org/2000/svg\" height=\"24px\"viewBox=\"0 0 24 24\"\n",
              "       width=\"24px\">\n",
              "    <path d=\"M0 0h24v24H0V0z\" fill=\"none\"/>\n",
              "    <path d=\"M18.56 5.44l.94 2.06.94-2.06 2.06-.94-2.06-.94-.94-2.06-.94 2.06-2.06.94zm-11 1L8.5 8.5l.94-2.06 2.06-.94-2.06-.94L8.5 2.5l-.94 2.06-2.06.94zm10 10l.94 2.06.94-2.06 2.06-.94-2.06-.94-.94-2.06-.94 2.06-2.06.94z\"/><path d=\"M17.41 7.96l-1.37-1.37c-.4-.4-.92-.59-1.43-.59-.52 0-1.04.2-1.43.59L10.3 9.45l-7.72 7.72c-.78.78-.78 2.05 0 2.83L4 21.41c.39.39.9.59 1.41.59.51 0 1.02-.2 1.41-.59l7.78-7.78 2.81-2.81c.8-.78.8-2.07 0-2.86zM5.41 20L4 18.59l7.72-7.72 1.47 1.35L5.41 20z\"/>\n",
              "  </svg>\n",
              "      </button>\n",
              "      \n",
              "  <style>\n",
              "    .colab-df-container {\n",
              "      display:flex;\n",
              "      flex-wrap:wrap;\n",
              "      gap: 12px;\n",
              "    }\n",
              "\n",
              "    .colab-df-convert {\n",
              "      background-color: #E8F0FE;\n",
              "      border: none;\n",
              "      border-radius: 50%;\n",
              "      cursor: pointer;\n",
              "      display: none;\n",
              "      fill: #1967D2;\n",
              "      height: 32px;\n",
              "      padding: 0 0 0 0;\n",
              "      width: 32px;\n",
              "    }\n",
              "\n",
              "    .colab-df-convert:hover {\n",
              "      background-color: #E2EBFA;\n",
              "      box-shadow: 0px 1px 2px rgba(60, 64, 67, 0.3), 0px 1px 3px 1px rgba(60, 64, 67, 0.15);\n",
              "      fill: #174EA6;\n",
              "    }\n",
              "\n",
              "    [theme=dark] .colab-df-convert {\n",
              "      background-color: #3B4455;\n",
              "      fill: #D2E3FC;\n",
              "    }\n",
              "\n",
              "    [theme=dark] .colab-df-convert:hover {\n",
              "      background-color: #434B5C;\n",
              "      box-shadow: 0px 1px 3px 1px rgba(0, 0, 0, 0.15);\n",
              "      filter: drop-shadow(0px 1px 2px rgba(0, 0, 0, 0.3));\n",
              "      fill: #FFFFFF;\n",
              "    }\n",
              "  </style>\n",
              "\n",
              "      <script>\n",
              "        const buttonEl =\n",
              "          document.querySelector('#df-e1644dff-797e-4f63-b2ea-3ef2e87cddeb button.colab-df-convert');\n",
              "        buttonEl.style.display =\n",
              "          google.colab.kernel.accessAllowed ? 'block' : 'none';\n",
              "\n",
              "        async function convertToInteractive(key) {\n",
              "          const element = document.querySelector('#df-e1644dff-797e-4f63-b2ea-3ef2e87cddeb');\n",
              "          const dataTable =\n",
              "            await google.colab.kernel.invokeFunction('convertToInteractive',\n",
              "                                                     [key], {});\n",
              "          if (!dataTable) return;\n",
              "\n",
              "          const docLinkHtml = 'Like what you see? Visit the ' +\n",
              "            '<a target=\"_blank\" href=https://colab.research.google.com/notebooks/data_table.ipynb>data table notebook</a>'\n",
              "            + ' to learn more about interactive tables.';\n",
              "          element.innerHTML = '';\n",
              "          dataTable['output_type'] = 'display_data';\n",
              "          await google.colab.output.renderOutput(dataTable, element);\n",
              "          const docLink = document.createElement('div');\n",
              "          docLink.innerHTML = docLinkHtml;\n",
              "          element.appendChild(docLink);\n",
              "        }\n",
              "      </script>\n",
              "    </div>\n",
              "  </div>\n",
              "  "
            ]
          },
          "metadata": {},
          "execution_count": 9
        }
      ]
    },
    {
      "cell_type": "code",
      "source": [
        "df.shape"
      ],
      "metadata": {
        "colab": {
          "base_uri": "https://localhost:8080/"
        },
        "id": "pHPLYpweC44v",
        "outputId": "59cc55bb-344a-47c8-b290-4c08aab4f9a2"
      },
      "execution_count": null,
      "outputs": [
        {
          "output_type": "execute_result",
          "data": {
            "text/plain": [
              "(93, 1)"
            ]
          },
          "metadata": {},
          "execution_count": 11
        }
      ]
    },
    {
      "cell_type": "markdown",
      "source": [
        "#Tokenization"
      ],
      "metadata": {
        "id": "Jzd3pVmPF6e6"
      }
    },
    {
      "cell_type": "code",
      "source": [
        "df['text'][0]"
      ],
      "metadata": {
        "colab": {
          "base_uri": "https://localhost:8080/",
          "height": 36
        },
        "id": "RlrzI120GCZi",
        "outputId": "a772b656-6d77-4778-94ed-a253d17b69f6"
      },
      "execution_count": null,
      "outputs": [
        {
          "output_type": "execute_result",
          "data": {
            "text/plain": [
              "'@AppleSupport causing the reply to be disregarded and the tapped notification under the keyboard is opened😡😡😡'"
            ],
            "application/vnd.google.colaboratory.intrinsic+json": {
              "type": "string"
            }
          },
          "metadata": {},
          "execution_count": 14
        }
      ]
    },
    {
      "cell_type": "code",
      "source": [
        "#token is automatically built in spacy as we initialise the object\n",
        "doc=nlp('@AppleSupport causing the reply to be disregarded and the tapped notification under the keyboard is opened😡😡😡')"
      ],
      "metadata": {
        "id": "IhWzDDhfFbj7"
      },
      "execution_count": null,
      "outputs": []
    },
    {
      "cell_type": "code",
      "source": [
        "for token in doc:\n",
        "  print(token)"
      ],
      "metadata": {
        "colab": {
          "base_uri": "https://localhost:8080/"
        },
        "id": "sAvJ4jYNGSGN",
        "outputId": "3d7e9b36-2d9d-4c81-aead-683e9aec4795"
      },
      "execution_count": null,
      "outputs": [
        {
          "output_type": "stream",
          "name": "stdout",
          "text": [
            "@AppleSupport\n",
            "causing\n",
            "the\n",
            "reply\n",
            "to\n",
            "be\n",
            "disregarded\n",
            "and\n",
            "the\n",
            "tapped\n",
            "notification\n",
            "under\n",
            "the\n",
            "keyboard\n",
            "is\n",
            "opened\n",
            "😡\n",
            "😡\n",
            "😡\n"
          ]
        }
      ]
    },
    {
      "cell_type": "code",
      "source": [
        "#applying tokenization in dataframe\n",
        "df['token']=df['text'].apply(lambda x: nlp(x))"
      ],
      "metadata": {
        "id": "SJi_3-ngE7Eu"
      },
      "execution_count": null,
      "outputs": []
    },
    {
      "cell_type": "code",
      "source": [
        "df.head()"
      ],
      "metadata": {
        "colab": {
          "base_uri": "https://localhost:8080/",
          "height": 206
        },
        "id": "ovJGVzk4Fx_S",
        "outputId": "5e7262cb-5fc5-43f0-c802-55bc44270127"
      },
      "execution_count": null,
      "outputs": [
        {
          "output_type": "execute_result",
          "data": {
            "text/plain": [
              "                                                text  \\\n",
              "0  @AppleSupport causing the reply to be disregar...   \n",
              "1  @105835 Your business means a lot to us. Pleas...   \n",
              "2  @76328 I really hope you all change but I'm su...   \n",
              "3  @105836 LiveChat is online at the moment - htt...   \n",
              "4  @VirginTrains see attached error message. I've...   \n",
              "\n",
              "                                               token  \n",
              "0  (@AppleSupport, causing, the, reply, to, be, d...  \n",
              "1  (@105835, Your, business, means, a, lot, to, u...  \n",
              "2  (@76328, I, really, hope, you, all, change, bu...  \n",
              "3  (@105836, LiveChat, is, online, at, the, momen...  \n",
              "4  (@VirginTrains, see, attached, error, message,...  "
            ],
            "text/html": [
              "\n",
              "  <div id=\"df-78f7af3d-028c-48c6-bfea-7100ae358192\">\n",
              "    <div class=\"colab-df-container\">\n",
              "      <div>\n",
              "<style scoped>\n",
              "    .dataframe tbody tr th:only-of-type {\n",
              "        vertical-align: middle;\n",
              "    }\n",
              "\n",
              "    .dataframe tbody tr th {\n",
              "        vertical-align: top;\n",
              "    }\n",
              "\n",
              "    .dataframe thead th {\n",
              "        text-align: right;\n",
              "    }\n",
              "</style>\n",
              "<table border=\"1\" class=\"dataframe\">\n",
              "  <thead>\n",
              "    <tr style=\"text-align: right;\">\n",
              "      <th></th>\n",
              "      <th>text</th>\n",
              "      <th>token</th>\n",
              "    </tr>\n",
              "  </thead>\n",
              "  <tbody>\n",
              "    <tr>\n",
              "      <th>0</th>\n",
              "      <td>@AppleSupport causing the reply to be disregar...</td>\n",
              "      <td>(@AppleSupport, causing, the, reply, to, be, d...</td>\n",
              "    </tr>\n",
              "    <tr>\n",
              "      <th>1</th>\n",
              "      <td>@105835 Your business means a lot to us. Pleas...</td>\n",
              "      <td>(@105835, Your, business, means, a, lot, to, u...</td>\n",
              "    </tr>\n",
              "    <tr>\n",
              "      <th>2</th>\n",
              "      <td>@76328 I really hope you all change but I'm su...</td>\n",
              "      <td>(@76328, I, really, hope, you, all, change, bu...</td>\n",
              "    </tr>\n",
              "    <tr>\n",
              "      <th>3</th>\n",
              "      <td>@105836 LiveChat is online at the moment - htt...</td>\n",
              "      <td>(@105836, LiveChat, is, online, at, the, momen...</td>\n",
              "    </tr>\n",
              "    <tr>\n",
              "      <th>4</th>\n",
              "      <td>@VirginTrains see attached error message. I've...</td>\n",
              "      <td>(@VirginTrains, see, attached, error, message,...</td>\n",
              "    </tr>\n",
              "  </tbody>\n",
              "</table>\n",
              "</div>\n",
              "      <button class=\"colab-df-convert\" onclick=\"convertToInteractive('df-78f7af3d-028c-48c6-bfea-7100ae358192')\"\n",
              "              title=\"Convert this dataframe to an interactive table.\"\n",
              "              style=\"display:none;\">\n",
              "        \n",
              "  <svg xmlns=\"http://www.w3.org/2000/svg\" height=\"24px\"viewBox=\"0 0 24 24\"\n",
              "       width=\"24px\">\n",
              "    <path d=\"M0 0h24v24H0V0z\" fill=\"none\"/>\n",
              "    <path d=\"M18.56 5.44l.94 2.06.94-2.06 2.06-.94-2.06-.94-.94-2.06-.94 2.06-2.06.94zm-11 1L8.5 8.5l.94-2.06 2.06-.94-2.06-.94L8.5 2.5l-.94 2.06-2.06.94zm10 10l.94 2.06.94-2.06 2.06-.94-2.06-.94-.94-2.06-.94 2.06-2.06.94z\"/><path d=\"M17.41 7.96l-1.37-1.37c-.4-.4-.92-.59-1.43-.59-.52 0-1.04.2-1.43.59L10.3 9.45l-7.72 7.72c-.78.78-.78 2.05 0 2.83L4 21.41c.39.39.9.59 1.41.59.51 0 1.02-.2 1.41-.59l7.78-7.78 2.81-2.81c.8-.78.8-2.07 0-2.86zM5.41 20L4 18.59l7.72-7.72 1.47 1.35L5.41 20z\"/>\n",
              "  </svg>\n",
              "      </button>\n",
              "      \n",
              "  <style>\n",
              "    .colab-df-container {\n",
              "      display:flex;\n",
              "      flex-wrap:wrap;\n",
              "      gap: 12px;\n",
              "    }\n",
              "\n",
              "    .colab-df-convert {\n",
              "      background-color: #E8F0FE;\n",
              "      border: none;\n",
              "      border-radius: 50%;\n",
              "      cursor: pointer;\n",
              "      display: none;\n",
              "      fill: #1967D2;\n",
              "      height: 32px;\n",
              "      padding: 0 0 0 0;\n",
              "      width: 32px;\n",
              "    }\n",
              "\n",
              "    .colab-df-convert:hover {\n",
              "      background-color: #E2EBFA;\n",
              "      box-shadow: 0px 1px 2px rgba(60, 64, 67, 0.3), 0px 1px 3px 1px rgba(60, 64, 67, 0.15);\n",
              "      fill: #174EA6;\n",
              "    }\n",
              "\n",
              "    [theme=dark] .colab-df-convert {\n",
              "      background-color: #3B4455;\n",
              "      fill: #D2E3FC;\n",
              "    }\n",
              "\n",
              "    [theme=dark] .colab-df-convert:hover {\n",
              "      background-color: #434B5C;\n",
              "      box-shadow: 0px 1px 3px 1px rgba(0, 0, 0, 0.15);\n",
              "      filter: drop-shadow(0px 1px 2px rgba(0, 0, 0, 0.3));\n",
              "      fill: #FFFFFF;\n",
              "    }\n",
              "  </style>\n",
              "\n",
              "      <script>\n",
              "        const buttonEl =\n",
              "          document.querySelector('#df-78f7af3d-028c-48c6-bfea-7100ae358192 button.colab-df-convert');\n",
              "        buttonEl.style.display =\n",
              "          google.colab.kernel.accessAllowed ? 'block' : 'none';\n",
              "\n",
              "        async function convertToInteractive(key) {\n",
              "          const element = document.querySelector('#df-78f7af3d-028c-48c6-bfea-7100ae358192');\n",
              "          const dataTable =\n",
              "            await google.colab.kernel.invokeFunction('convertToInteractive',\n",
              "                                                     [key], {});\n",
              "          if (!dataTable) return;\n",
              "\n",
              "          const docLinkHtml = 'Like what you see? Visit the ' +\n",
              "            '<a target=\"_blank\" href=https://colab.research.google.com/notebooks/data_table.ipynb>data table notebook</a>'\n",
              "            + ' to learn more about interactive tables.';\n",
              "          element.innerHTML = '';\n",
              "          dataTable['output_type'] = 'display_data';\n",
              "          await google.colab.output.renderOutput(dataTable, element);\n",
              "          const docLink = document.createElement('div');\n",
              "          docLink.innerHTML = docLinkHtml;\n",
              "          element.appendChild(docLink);\n",
              "        }\n",
              "      </script>\n",
              "    </div>\n",
              "  </div>\n",
              "  "
            ]
          },
          "metadata": {},
          "execution_count": 13
        }
      ]
    },
    {
      "cell_type": "code",
      "source": [
        "df['text'][15]"
      ],
      "metadata": {
        "colab": {
          "base_uri": "https://localhost:8080/",
          "height": 55
        },
        "id": "bTQccJTQG4Vt",
        "outputId": "7f89fb8f-364c-4845-9b41-bf901a3c62cd"
      },
      "execution_count": null,
      "outputs": [
        {
          "output_type": "execute_result",
          "data": {
            "text/plain": [
              "\"@105840 Hi there! What device is this happening on? If you could also let us know the Android and Spotify versions you're using, that'd be great /AY\""
            ],
            "application/vnd.google.colaboratory.intrinsic+json": {
              "type": "string"
            }
          },
          "metadata": {},
          "execution_count": 17
        }
      ]
    },
    {
      "cell_type": "code",
      "source": [
        "#printing sentences\n",
        "doc=nlp('''@105840 Hi there! What device is this happening on? If you could also let us know the Android and Spotify versions you're using, that'd be great /AY''')\n",
        "for sent in doc.sents:\n",
        "  print(sent)\n"
      ],
      "metadata": {
        "colab": {
          "base_uri": "https://localhost:8080/"
        },
        "id": "afjm61VqF19o",
        "outputId": "331e4348-7a8d-4dd7-d591-2a46ca137fb7"
      },
      "execution_count": null,
      "outputs": [
        {
          "output_type": "stream",
          "name": "stdout",
          "text": [
            "@105840 Hi there!\n",
            "What device is this happening on?\n",
            "If you could also let us know the Android and Spotify versions you're using, that'd be great /AY\n"
          ]
        }
      ]
    },
    {
      "cell_type": "code",
      "source": [
        "df.drop(columns='sent_tokenize',axis=1,inplace=True)"
      ],
      "metadata": {
        "id": "kkB64MNYHu0t"
      },
      "execution_count": null,
      "outputs": []
    },
    {
      "cell_type": "code",
      "source": [
        "df.head()"
      ],
      "metadata": {
        "colab": {
          "base_uri": "https://localhost:8080/",
          "height": 206
        },
        "id": "bJfYi7cEJdvR",
        "outputId": "4500ccbc-a8fa-42eb-b0d1-5499599e3d2e"
      },
      "execution_count": null,
      "outputs": [
        {
          "output_type": "execute_result",
          "data": {
            "text/plain": [
              "                                                text  \\\n",
              "0  @AppleSupport causing the reply to be disregar...   \n",
              "1  @105835 Your business means a lot to us. Pleas...   \n",
              "2  @76328 I really hope you all change but I'm su...   \n",
              "3  @105836 LiveChat is online at the moment - htt...   \n",
              "4  @VirginTrains see attached error message. I've...   \n",
              "\n",
              "                                               token  \n",
              "0  (@AppleSupport, causing, the, reply, to, be, d...  \n",
              "1  (@105835, Your, business, means, a, lot, to, u...  \n",
              "2  (@76328, I, really, hope, you, all, change, bu...  \n",
              "3  (@105836, LiveChat, is, online, at, the, momen...  \n",
              "4  (@VirginTrains, see, attached, error, message,...  "
            ],
            "text/html": [
              "\n",
              "  <div id=\"df-1294bb73-8d55-483d-a1da-6cfb9e5bf22b\">\n",
              "    <div class=\"colab-df-container\">\n",
              "      <div>\n",
              "<style scoped>\n",
              "    .dataframe tbody tr th:only-of-type {\n",
              "        vertical-align: middle;\n",
              "    }\n",
              "\n",
              "    .dataframe tbody tr th {\n",
              "        vertical-align: top;\n",
              "    }\n",
              "\n",
              "    .dataframe thead th {\n",
              "        text-align: right;\n",
              "    }\n",
              "</style>\n",
              "<table border=\"1\" class=\"dataframe\">\n",
              "  <thead>\n",
              "    <tr style=\"text-align: right;\">\n",
              "      <th></th>\n",
              "      <th>text</th>\n",
              "      <th>token</th>\n",
              "    </tr>\n",
              "  </thead>\n",
              "  <tbody>\n",
              "    <tr>\n",
              "      <th>0</th>\n",
              "      <td>@AppleSupport causing the reply to be disregar...</td>\n",
              "      <td>(@AppleSupport, causing, the, reply, to, be, d...</td>\n",
              "    </tr>\n",
              "    <tr>\n",
              "      <th>1</th>\n",
              "      <td>@105835 Your business means a lot to us. Pleas...</td>\n",
              "      <td>(@105835, Your, business, means, a, lot, to, u...</td>\n",
              "    </tr>\n",
              "    <tr>\n",
              "      <th>2</th>\n",
              "      <td>@76328 I really hope you all change but I'm su...</td>\n",
              "      <td>(@76328, I, really, hope, you, all, change, bu...</td>\n",
              "    </tr>\n",
              "    <tr>\n",
              "      <th>3</th>\n",
              "      <td>@105836 LiveChat is online at the moment - htt...</td>\n",
              "      <td>(@105836, LiveChat, is, online, at, the, momen...</td>\n",
              "    </tr>\n",
              "    <tr>\n",
              "      <th>4</th>\n",
              "      <td>@VirginTrains see attached error message. I've...</td>\n",
              "      <td>(@VirginTrains, see, attached, error, message,...</td>\n",
              "    </tr>\n",
              "  </tbody>\n",
              "</table>\n",
              "</div>\n",
              "      <button class=\"colab-df-convert\" onclick=\"convertToInteractive('df-1294bb73-8d55-483d-a1da-6cfb9e5bf22b')\"\n",
              "              title=\"Convert this dataframe to an interactive table.\"\n",
              "              style=\"display:none;\">\n",
              "        \n",
              "  <svg xmlns=\"http://www.w3.org/2000/svg\" height=\"24px\"viewBox=\"0 0 24 24\"\n",
              "       width=\"24px\">\n",
              "    <path d=\"M0 0h24v24H0V0z\" fill=\"none\"/>\n",
              "    <path d=\"M18.56 5.44l.94 2.06.94-2.06 2.06-.94-2.06-.94-.94-2.06-.94 2.06-2.06.94zm-11 1L8.5 8.5l.94-2.06 2.06-.94-2.06-.94L8.5 2.5l-.94 2.06-2.06.94zm10 10l.94 2.06.94-2.06 2.06-.94-2.06-.94-.94-2.06-.94 2.06-2.06.94z\"/><path d=\"M17.41 7.96l-1.37-1.37c-.4-.4-.92-.59-1.43-.59-.52 0-1.04.2-1.43.59L10.3 9.45l-7.72 7.72c-.78.78-.78 2.05 0 2.83L4 21.41c.39.39.9.59 1.41.59.51 0 1.02-.2 1.41-.59l7.78-7.78 2.81-2.81c.8-.78.8-2.07 0-2.86zM5.41 20L4 18.59l7.72-7.72 1.47 1.35L5.41 20z\"/>\n",
              "  </svg>\n",
              "      </button>\n",
              "      \n",
              "  <style>\n",
              "    .colab-df-container {\n",
              "      display:flex;\n",
              "      flex-wrap:wrap;\n",
              "      gap: 12px;\n",
              "    }\n",
              "\n",
              "    .colab-df-convert {\n",
              "      background-color: #E8F0FE;\n",
              "      border: none;\n",
              "      border-radius: 50%;\n",
              "      cursor: pointer;\n",
              "      display: none;\n",
              "      fill: #1967D2;\n",
              "      height: 32px;\n",
              "      padding: 0 0 0 0;\n",
              "      width: 32px;\n",
              "    }\n",
              "\n",
              "    .colab-df-convert:hover {\n",
              "      background-color: #E2EBFA;\n",
              "      box-shadow: 0px 1px 2px rgba(60, 64, 67, 0.3), 0px 1px 3px 1px rgba(60, 64, 67, 0.15);\n",
              "      fill: #174EA6;\n",
              "    }\n",
              "\n",
              "    [theme=dark] .colab-df-convert {\n",
              "      background-color: #3B4455;\n",
              "      fill: #D2E3FC;\n",
              "    }\n",
              "\n",
              "    [theme=dark] .colab-df-convert:hover {\n",
              "      background-color: #434B5C;\n",
              "      box-shadow: 0px 1px 3px 1px rgba(0, 0, 0, 0.15);\n",
              "      filter: drop-shadow(0px 1px 2px rgba(0, 0, 0, 0.3));\n",
              "      fill: #FFFFFF;\n",
              "    }\n",
              "  </style>\n",
              "\n",
              "      <script>\n",
              "        const buttonEl =\n",
              "          document.querySelector('#df-1294bb73-8d55-483d-a1da-6cfb9e5bf22b button.colab-df-convert');\n",
              "        buttonEl.style.display =\n",
              "          google.colab.kernel.accessAllowed ? 'block' : 'none';\n",
              "\n",
              "        async function convertToInteractive(key) {\n",
              "          const element = document.querySelector('#df-1294bb73-8d55-483d-a1da-6cfb9e5bf22b');\n",
              "          const dataTable =\n",
              "            await google.colab.kernel.invokeFunction('convertToInteractive',\n",
              "                                                     [key], {});\n",
              "          if (!dataTable) return;\n",
              "\n",
              "          const docLinkHtml = 'Like what you see? Visit the ' +\n",
              "            '<a target=\"_blank\" href=https://colab.research.google.com/notebooks/data_table.ipynb>data table notebook</a>'\n",
              "            + ' to learn more about interactive tables.';\n",
              "          element.innerHTML = '';\n",
              "          dataTable['output_type'] = 'display_data';\n",
              "          await google.colab.output.renderOutput(dataTable, element);\n",
              "          const docLink = document.createElement('div');\n",
              "          docLink.innerHTML = docLinkHtml;\n",
              "          element.appendChild(docLink);\n",
              "        }\n",
              "      </script>\n",
              "    </div>\n",
              "  </div>\n",
              "  "
            ]
          },
          "metadata": {},
          "execution_count": 27
        }
      ]
    },
    {
      "cell_type": "code",
      "source": [
        "df['sent_tokenize']=df['text'].apply(lambda x: [sent.text for sent in nlp(x).sents])"
      ],
      "metadata": {
        "id": "TwW_Q8YLJhQl"
      },
      "execution_count": 28,
      "outputs": []
    },
    {
      "cell_type": "code",
      "source": [
        "df['text'][12]"
      ],
      "metadata": {
        "colab": {
          "base_uri": "https://localhost:8080/",
          "height": 36
        },
        "id": "_mv18O7DLYoR",
        "outputId": "d04ce0e4-57e0-4c7a-9dd2-d4449d43aa49"
      },
      "execution_count": 30,
      "outputs": [
        {
          "output_type": "execute_result",
          "data": {
            "text/plain": [
              "'@AppleSupport hi #apple, I’ve a concern about the latest ios is too slow on #iphone6 and i am not happy with it. Any solution please?'"
            ],
            "application/vnd.google.colaboratory.intrinsic+json": {
              "type": "string"
            }
          },
          "metadata": {},
          "execution_count": 30
        }
      ]
    },
    {
      "cell_type": "code",
      "source": [
        "df['sent_tokenize'][12]"
      ],
      "metadata": {
        "colab": {
          "base_uri": "https://localhost:8080/"
        },
        "id": "Xixc6dHJLkpc",
        "outputId": "afd6e55f-3728-4344-95d4-b13c8cf4c949"
      },
      "execution_count": 31,
      "outputs": [
        {
          "output_type": "execute_result",
          "data": {
            "text/plain": [
              "['@AppleSupport hi #apple, I’ve a concern about the latest ios is too slow on #iphone6 and i am not happy with it.',\n",
              " 'Any solution please?']"
            ]
          },
          "metadata": {},
          "execution_count": 31
        }
      ]
    },
    {
      "cell_type": "code",
      "source": [
        "pd.set_option('display.max_colwidth', None)"
      ],
      "metadata": {
        "id": "01x1WtPMNw3b"
      },
      "execution_count": 33,
      "outputs": []
    },
    {
      "cell_type": "code",
      "source": [
        "df.head()"
      ],
      "metadata": {
        "colab": {
          "base_uri": "https://localhost:8080/",
          "height": 424
        },
        "id": "dzCW_F20LtLR",
        "outputId": "353d7410-0185-48ac-974a-86346ba1a526"
      },
      "execution_count": 34,
      "outputs": [
        {
          "output_type": "execute_result",
          "data": {
            "text/plain": [
              "                                                                                                                                                  text  \\\n",
              "0                                        @AppleSupport causing the reply to be disregarded and the tapped notification under the keyboard is opened😡😡😡   \n",
              "1        @105835 Your business means a lot to us. Please DM your name, zip code and additional details about your concern. ^RR https://t.co/znUu1VJn9r   \n",
              "2                                                               @76328 I really hope you all change but I'm sure you won't! Because you don't have to!   \n",
              "3  @105836 LiveChat is online at the moment - https://t.co/SY94VtU8Kq or contact 03331 031 031 option 1, 4, 3 (Leave a message) to request a call back   \n",
              "4                      @VirginTrains see attached error message. I've tried leaving a voicemail several times in the past week https://t.co/NxVZjlYx1k   \n",
              "\n",
              "                                                                                                                                                                                    token  \\\n",
              "0                                                    (@AppleSupport, causing, the, reply, to, be, disregarded, and, the, tapped, notification, under, the, keyboard, is, opened, 😡, 😡, 😡)   \n",
              "1              (@105835, Your, business, means, a, lot, to, us, ., Please, DM, your, name, ,, zip, code, and, additional, details, about, your, concern, ., ^RR, https://t.co/znUu1VJn9r)   \n",
              "2                                                                      (@76328, I, really, hope, you, all, change, but, I, 'm, sure, you, wo, n't, !, Because, you, do, n't, have, to, !)   \n",
              "3  (@105836, LiveChat, is, online, at, the, moment, -, https://t.co/SY94VtU8Kq, or, contact, 03331, 031, 031, option, 1, ,, 4, ,, 3, (, Leave, a, message, ), to, request, a, call, back)   \n",
              "4                                   (@VirginTrains, see, attached, error, message, ., I, 've, tried, leaving, a, voicemail, several, times, in, the, past, week, https://t.co/NxVZjlYx1k)   \n",
              "\n",
              "                                                                                                                                           sent_tokenize  \n",
              "0                                        [@AppleSupport causing the reply to be disregarded and the tapped notification under the keyboard is opened😡😡😡]  \n",
              "1      [@105835 Your business means a lot to us., Please DM your name, zip code and additional details about your concern., ^RR https://t.co/znUu1VJn9r]  \n",
              "2                                                            [@76328, I really hope you all change, but I'm sure you won't!, Because you don't have to!]  \n",
              "3  [@105836 LiveChat is online at the moment - https://t.co/SY94VtU8Kq or contact 03331 031 031 option 1, 4, 3 (Leave a message) to request a call back]  \n",
              "4                     [@VirginTrains see attached error message., I've tried leaving a voicemail several times in the past week https://t.co/NxVZjlYx1k]  "
            ],
            "text/html": [
              "\n",
              "  <div id=\"df-c93c90d8-2448-45d0-9c4e-b544ea80f420\">\n",
              "    <div class=\"colab-df-container\">\n",
              "      <div>\n",
              "<style scoped>\n",
              "    .dataframe tbody tr th:only-of-type {\n",
              "        vertical-align: middle;\n",
              "    }\n",
              "\n",
              "    .dataframe tbody tr th {\n",
              "        vertical-align: top;\n",
              "    }\n",
              "\n",
              "    .dataframe thead th {\n",
              "        text-align: right;\n",
              "    }\n",
              "</style>\n",
              "<table border=\"1\" class=\"dataframe\">\n",
              "  <thead>\n",
              "    <tr style=\"text-align: right;\">\n",
              "      <th></th>\n",
              "      <th>text</th>\n",
              "      <th>token</th>\n",
              "      <th>sent_tokenize</th>\n",
              "    </tr>\n",
              "  </thead>\n",
              "  <tbody>\n",
              "    <tr>\n",
              "      <th>0</th>\n",
              "      <td>@AppleSupport causing the reply to be disregarded and the tapped notification under the keyboard is opened😡😡😡</td>\n",
              "      <td>(@AppleSupport, causing, the, reply, to, be, disregarded, and, the, tapped, notification, under, the, keyboard, is, opened, 😡, 😡, 😡)</td>\n",
              "      <td>[@AppleSupport causing the reply to be disregarded and the tapped notification under the keyboard is opened😡😡😡]</td>\n",
              "    </tr>\n",
              "    <tr>\n",
              "      <th>1</th>\n",
              "      <td>@105835 Your business means a lot to us. Please DM your name, zip code and additional details about your concern. ^RR https://t.co/znUu1VJn9r</td>\n",
              "      <td>(@105835, Your, business, means, a, lot, to, us, ., Please, DM, your, name, ,, zip, code, and, additional, details, about, your, concern, ., ^RR, https://t.co/znUu1VJn9r)</td>\n",
              "      <td>[@105835 Your business means a lot to us., Please DM your name, zip code and additional details about your concern., ^RR https://t.co/znUu1VJn9r]</td>\n",
              "    </tr>\n",
              "    <tr>\n",
              "      <th>2</th>\n",
              "      <td>@76328 I really hope you all change but I'm sure you won't! Because you don't have to!</td>\n",
              "      <td>(@76328, I, really, hope, you, all, change, but, I, 'm, sure, you, wo, n't, !, Because, you, do, n't, have, to, !)</td>\n",
              "      <td>[@76328, I really hope you all change, but I'm sure you won't!, Because you don't have to!]</td>\n",
              "    </tr>\n",
              "    <tr>\n",
              "      <th>3</th>\n",
              "      <td>@105836 LiveChat is online at the moment - https://t.co/SY94VtU8Kq or contact 03331 031 031 option 1, 4, 3 (Leave a message) to request a call back</td>\n",
              "      <td>(@105836, LiveChat, is, online, at, the, moment, -, https://t.co/SY94VtU8Kq, or, contact, 03331, 031, 031, option, 1, ,, 4, ,, 3, (, Leave, a, message, ), to, request, a, call, back)</td>\n",
              "      <td>[@105836 LiveChat is online at the moment - https://t.co/SY94VtU8Kq or contact 03331 031 031 option 1, 4, 3 (Leave a message) to request a call back]</td>\n",
              "    </tr>\n",
              "    <tr>\n",
              "      <th>4</th>\n",
              "      <td>@VirginTrains see attached error message. I've tried leaving a voicemail several times in the past week https://t.co/NxVZjlYx1k</td>\n",
              "      <td>(@VirginTrains, see, attached, error, message, ., I, 've, tried, leaving, a, voicemail, several, times, in, the, past, week, https://t.co/NxVZjlYx1k)</td>\n",
              "      <td>[@VirginTrains see attached error message., I've tried leaving a voicemail several times in the past week https://t.co/NxVZjlYx1k]</td>\n",
              "    </tr>\n",
              "  </tbody>\n",
              "</table>\n",
              "</div>\n",
              "      <button class=\"colab-df-convert\" onclick=\"convertToInteractive('df-c93c90d8-2448-45d0-9c4e-b544ea80f420')\"\n",
              "              title=\"Convert this dataframe to an interactive table.\"\n",
              "              style=\"display:none;\">\n",
              "        \n",
              "  <svg xmlns=\"http://www.w3.org/2000/svg\" height=\"24px\"viewBox=\"0 0 24 24\"\n",
              "       width=\"24px\">\n",
              "    <path d=\"M0 0h24v24H0V0z\" fill=\"none\"/>\n",
              "    <path d=\"M18.56 5.44l.94 2.06.94-2.06 2.06-.94-2.06-.94-.94-2.06-.94 2.06-2.06.94zm-11 1L8.5 8.5l.94-2.06 2.06-.94-2.06-.94L8.5 2.5l-.94 2.06-2.06.94zm10 10l.94 2.06.94-2.06 2.06-.94-2.06-.94-.94-2.06-.94 2.06-2.06.94z\"/><path d=\"M17.41 7.96l-1.37-1.37c-.4-.4-.92-.59-1.43-.59-.52 0-1.04.2-1.43.59L10.3 9.45l-7.72 7.72c-.78.78-.78 2.05 0 2.83L4 21.41c.39.39.9.59 1.41.59.51 0 1.02-.2 1.41-.59l7.78-7.78 2.81-2.81c.8-.78.8-2.07 0-2.86zM5.41 20L4 18.59l7.72-7.72 1.47 1.35L5.41 20z\"/>\n",
              "  </svg>\n",
              "      </button>\n",
              "      \n",
              "  <style>\n",
              "    .colab-df-container {\n",
              "      display:flex;\n",
              "      flex-wrap:wrap;\n",
              "      gap: 12px;\n",
              "    }\n",
              "\n",
              "    .colab-df-convert {\n",
              "      background-color: #E8F0FE;\n",
              "      border: none;\n",
              "      border-radius: 50%;\n",
              "      cursor: pointer;\n",
              "      display: none;\n",
              "      fill: #1967D2;\n",
              "      height: 32px;\n",
              "      padding: 0 0 0 0;\n",
              "      width: 32px;\n",
              "    }\n",
              "\n",
              "    .colab-df-convert:hover {\n",
              "      background-color: #E2EBFA;\n",
              "      box-shadow: 0px 1px 2px rgba(60, 64, 67, 0.3), 0px 1px 3px 1px rgba(60, 64, 67, 0.15);\n",
              "      fill: #174EA6;\n",
              "    }\n",
              "\n",
              "    [theme=dark] .colab-df-convert {\n",
              "      background-color: #3B4455;\n",
              "      fill: #D2E3FC;\n",
              "    }\n",
              "\n",
              "    [theme=dark] .colab-df-convert:hover {\n",
              "      background-color: #434B5C;\n",
              "      box-shadow: 0px 1px 3px 1px rgba(0, 0, 0, 0.15);\n",
              "      filter: drop-shadow(0px 1px 2px rgba(0, 0, 0, 0.3));\n",
              "      fill: #FFFFFF;\n",
              "    }\n",
              "  </style>\n",
              "\n",
              "      <script>\n",
              "        const buttonEl =\n",
              "          document.querySelector('#df-c93c90d8-2448-45d0-9c4e-b544ea80f420 button.colab-df-convert');\n",
              "        buttonEl.style.display =\n",
              "          google.colab.kernel.accessAllowed ? 'block' : 'none';\n",
              "\n",
              "        async function convertToInteractive(key) {\n",
              "          const element = document.querySelector('#df-c93c90d8-2448-45d0-9c4e-b544ea80f420');\n",
              "          const dataTable =\n",
              "            await google.colab.kernel.invokeFunction('convertToInteractive',\n",
              "                                                     [key], {});\n",
              "          if (!dataTable) return;\n",
              "\n",
              "          const docLinkHtml = 'Like what you see? Visit the ' +\n",
              "            '<a target=\"_blank\" href=https://colab.research.google.com/notebooks/data_table.ipynb>data table notebook</a>'\n",
              "            + ' to learn more about interactive tables.';\n",
              "          element.innerHTML = '';\n",
              "          dataTable['output_type'] = 'display_data';\n",
              "          await google.colab.output.renderOutput(dataTable, element);\n",
              "          const docLink = document.createElement('div');\n",
              "          docLink.innerHTML = docLinkHtml;\n",
              "          element.appendChild(docLink);\n",
              "        }\n",
              "      </script>\n",
              "    </div>\n",
              "  </div>\n",
              "  "
            ]
          },
          "metadata": {},
          "execution_count": 34
        }
      ]
    },
    {
      "cell_type": "code",
      "source": [
        "nlp.pipeline"
      ],
      "metadata": {
        "colab": {
          "base_uri": "https://localhost:8080/"
        },
        "id": "emNRBwoAOrtq",
        "outputId": "73973bb9-6148-4d72-8ced-40b9ccb1743b"
      },
      "execution_count": 40,
      "outputs": [
        {
          "output_type": "execute_result",
          "data": {
            "text/plain": [
              "[('tok2vec', <spacy.pipeline.tok2vec.Tok2Vec at 0x7f60d5ec0760>),\n",
              " ('tagger', <spacy.pipeline.tagger.Tagger at 0x7f60d5ec05e0>),\n",
              " ('parser', <spacy.pipeline.dep_parser.DependencyParser at 0x7f60d5fcd9e0>),\n",
              " ('attribute_ruler',\n",
              "  <spacy.pipeline.attributeruler.AttributeRuler at 0x7f5ffacffd00>),\n",
              " ('lemmatizer',\n",
              "  <spacy.lang.en.lemmatizer.EnglishLemmatizer at 0x7f5ffad05b80>),\n",
              " ('ner', <spacy.pipeline.ner.EntityRecognizer at 0x7f60d5fcdac0>)]"
            ]
          },
          "metadata": {},
          "execution_count": 40
        }
      ]
    },
    {
      "cell_type": "markdown",
      "source": [
        "#parts of speech tagging"
      ],
      "metadata": {
        "id": "rKCKrjysUKg-"
      }
    },
    {
      "cell_type": "code",
      "source": [
        "doc3=nlp('@Kamal where were you i was searching you brah,you wanna $ go i am tired?')\n",
        "for token in doc3:\n",
        "  print(token,'   |   ',token.pos_,'   |   ',spacy.explain(token.pos_),'   |   ',token.tag_,'   |    ',spacy.explain(token.tag_))"
      ],
      "metadata": {
        "colab": {
          "base_uri": "https://localhost:8080/"
        },
        "id": "6p-qdvF1dk32",
        "outputId": "dd58748e-6125-4e32-c7b6-8b4e0cddab0f"
      },
      "execution_count": 74,
      "outputs": [
        {
          "output_type": "stream",
          "name": "stdout",
          "text": [
            "@Kamal    |    PROPN    |    proper noun    |    NNP    |     noun, proper singular\n",
            "where    |    SCONJ    |    subordinating conjunction    |    WRB    |     wh-adverb\n",
            "were    |    AUX    |    auxiliary    |    VBD    |     verb, past tense\n",
            "you    |    PRON    |    pronoun    |    PRP    |     pronoun, personal\n",
            "i    |    PRON    |    pronoun    |    PRP    |     pronoun, personal\n",
            "was    |    AUX    |    auxiliary    |    VBD    |     verb, past tense\n",
            "searching    |    VERB    |    verb    |    VBG    |     verb, gerund or present participle\n",
            "you    |    PRON    |    pronoun    |    PRP    |     pronoun, personal\n",
            "brah    |    NOUN    |    noun    |    NN    |     noun, singular or mass\n",
            ",    |    PUNCT    |    punctuation    |    ,    |     punctuation mark, comma\n",
            "you    |    PRON    |    pronoun    |    PRP    |     pronoun, personal\n",
            "wanna    |    VERB    |    verb    |    VBP    |     verb, non-3rd person singular present\n",
            "$    |    ADV    |    adverb    |    RB    |     adverb\n",
            "go    |    VERB    |    verb    |    VB    |     verb, base form\n",
            "i    |    PRON    |    pronoun    |    PRP    |     pronoun, personal\n",
            "am    |    AUX    |    auxiliary    |    VBP    |     verb, non-3rd person singular present\n",
            "tired    |    ADJ    |    adjective    |    JJ    |     adjective (English), other noun-modifier (Chinese)\n",
            "?    |    PUNCT    |    punctuation    |    .    |     punctuation mark, sentence closer\n"
          ]
        }
      ]
    },
    {
      "cell_type": "code",
      "source": [
        "#tagging parts of speech to all words\n",
        "df['pos']=df['text'].apply(lambda x: [token.pos_ for token in nlp(x)])"
      ],
      "metadata": {
        "id": "bPPiaOjWTp_g"
      },
      "execution_count": 41,
      "outputs": []
    },
    {
      "cell_type": "code",
      "source": [
        "df.head()"
      ],
      "metadata": {
        "colab": {
          "base_uri": "https://localhost:8080/",
          "height": 632
        },
        "id": "cL0HjQWqUAsv",
        "outputId": "099c1fee-82cf-4b78-bcc8-031654b1c7a3"
      },
      "execution_count": 42,
      "outputs": [
        {
          "output_type": "execute_result",
          "data": {
            "text/plain": [
              "                                                                                                                                                  text  \\\n",
              "0                                        @AppleSupport causing the reply to be disregarded and the tapped notification under the keyboard is opened😡😡😡   \n",
              "1        @105835 Your business means a lot to us. Please DM your name, zip code and additional details about your concern. ^RR https://t.co/znUu1VJn9r   \n",
              "2                                                               @76328 I really hope you all change but I'm sure you won't! Because you don't have to!   \n",
              "3  @105836 LiveChat is online at the moment - https://t.co/SY94VtU8Kq or contact 03331 031 031 option 1, 4, 3 (Leave a message) to request a call back   \n",
              "4                      @VirginTrains see attached error message. I've tried leaving a voicemail several times in the past week https://t.co/NxVZjlYx1k   \n",
              "\n",
              "                                                                                                                                                                                    token  \\\n",
              "0                                                    (@AppleSupport, causing, the, reply, to, be, disregarded, and, the, tapped, notification, under, the, keyboard, is, opened, 😡, 😡, 😡)   \n",
              "1              (@105835, Your, business, means, a, lot, to, us, ., Please, DM, your, name, ,, zip, code, and, additional, details, about, your, concern, ., ^RR, https://t.co/znUu1VJn9r)   \n",
              "2                                                                      (@76328, I, really, hope, you, all, change, but, I, 'm, sure, you, wo, n't, !, Because, you, do, n't, have, to, !)   \n",
              "3  (@105836, LiveChat, is, online, at, the, moment, -, https://t.co/SY94VtU8Kq, or, contact, 03331, 031, 031, option, 1, ,, 4, ,, 3, (, Leave, a, message, ), to, request, a, call, back)   \n",
              "4                                   (@VirginTrains, see, attached, error, message, ., I, 've, tried, leaving, a, voicemail, several, times, in, the, past, week, https://t.co/NxVZjlYx1k)   \n",
              "\n",
              "                                                                                                                                           sent_tokenize  \\\n",
              "0                                        [@AppleSupport causing the reply to be disregarded and the tapped notification under the keyboard is opened😡😡😡]   \n",
              "1      [@105835 Your business means a lot to us., Please DM your name, zip code and additional details about your concern., ^RR https://t.co/znUu1VJn9r]   \n",
              "2                                                            [@76328, I really hope you all change, but I'm sure you won't!, Because you don't have to!]   \n",
              "3  [@105836 LiveChat is online at the moment - https://t.co/SY94VtU8Kq or contact 03331 031 031 option 1, 4, 3 (Leave a message) to request a call back]   \n",
              "4                     [@VirginTrains see attached error message., I've tried leaving a voicemail several times in the past week https://t.co/NxVZjlYx1k]   \n",
              "\n",
              "                                                                                                                                                                               pos  \n",
              "0                                                                   [VERB, VERB, DET, NOUN, PART, AUX, VERB, CCONJ, DET, VERB, NOUN, ADP, DET, NOUN, AUX, VERB, PROPN, NOUN, NOUN]  \n",
              "1                            [NOUN, PRON, NOUN, VERB, DET, NOUN, ADP, PRON, PUNCT, INTJ, VERB, PRON, NOUN, PUNCT, NOUN, NOUN, CCONJ, ADJ, NOUN, ADP, PRON, NOUN, PUNCT, NUM, NOUN]  \n",
              "2                                              [PROPN, PRON, ADV, VERB, PRON, DET, VERB, CCONJ, PRON, AUX, ADJ, PRON, AUX, PART, PUNCT, SCONJ, PRON, AUX, PART, VERB, PART, PUNCT]  \n",
              "3  [PUNCT, PROPN, AUX, ADV, ADP, DET, NOUN, PUNCT, NOUN, CCONJ, NOUN, NUM, NUM, NUM, NOUN, NUM, PUNCT, NUM, PUNCT, NUM, PUNCT, VERB, DET, NOUN, PUNCT, PART, VERB, DET, NOUN, ADV]  \n",
              "4                                                                   [NOUN, VERB, VERB, NOUN, NOUN, PUNCT, PRON, AUX, VERB, VERB, DET, NOUN, ADJ, NOUN, ADP, DET, ADJ, NOUN, SPACE]  "
            ],
            "text/html": [
              "\n",
              "  <div id=\"df-853873bc-ebb6-472f-85cd-b821002ddfdd\">\n",
              "    <div class=\"colab-df-container\">\n",
              "      <div>\n",
              "<style scoped>\n",
              "    .dataframe tbody tr th:only-of-type {\n",
              "        vertical-align: middle;\n",
              "    }\n",
              "\n",
              "    .dataframe tbody tr th {\n",
              "        vertical-align: top;\n",
              "    }\n",
              "\n",
              "    .dataframe thead th {\n",
              "        text-align: right;\n",
              "    }\n",
              "</style>\n",
              "<table border=\"1\" class=\"dataframe\">\n",
              "  <thead>\n",
              "    <tr style=\"text-align: right;\">\n",
              "      <th></th>\n",
              "      <th>text</th>\n",
              "      <th>token</th>\n",
              "      <th>sent_tokenize</th>\n",
              "      <th>pos</th>\n",
              "    </tr>\n",
              "  </thead>\n",
              "  <tbody>\n",
              "    <tr>\n",
              "      <th>0</th>\n",
              "      <td>@AppleSupport causing the reply to be disregarded and the tapped notification under the keyboard is opened😡😡😡</td>\n",
              "      <td>(@AppleSupport, causing, the, reply, to, be, disregarded, and, the, tapped, notification, under, the, keyboard, is, opened, 😡, 😡, 😡)</td>\n",
              "      <td>[@AppleSupport causing the reply to be disregarded and the tapped notification under the keyboard is opened😡😡😡]</td>\n",
              "      <td>[VERB, VERB, DET, NOUN, PART, AUX, VERB, CCONJ, DET, VERB, NOUN, ADP, DET, NOUN, AUX, VERB, PROPN, NOUN, NOUN]</td>\n",
              "    </tr>\n",
              "    <tr>\n",
              "      <th>1</th>\n",
              "      <td>@105835 Your business means a lot to us. Please DM your name, zip code and additional details about your concern. ^RR https://t.co/znUu1VJn9r</td>\n",
              "      <td>(@105835, Your, business, means, a, lot, to, us, ., Please, DM, your, name, ,, zip, code, and, additional, details, about, your, concern, ., ^RR, https://t.co/znUu1VJn9r)</td>\n",
              "      <td>[@105835 Your business means a lot to us., Please DM your name, zip code and additional details about your concern., ^RR https://t.co/znUu1VJn9r]</td>\n",
              "      <td>[NOUN, PRON, NOUN, VERB, DET, NOUN, ADP, PRON, PUNCT, INTJ, VERB, PRON, NOUN, PUNCT, NOUN, NOUN, CCONJ, ADJ, NOUN, ADP, PRON, NOUN, PUNCT, NUM, NOUN]</td>\n",
              "    </tr>\n",
              "    <tr>\n",
              "      <th>2</th>\n",
              "      <td>@76328 I really hope you all change but I'm sure you won't! Because you don't have to!</td>\n",
              "      <td>(@76328, I, really, hope, you, all, change, but, I, 'm, sure, you, wo, n't, !, Because, you, do, n't, have, to, !)</td>\n",
              "      <td>[@76328, I really hope you all change, but I'm sure you won't!, Because you don't have to!]</td>\n",
              "      <td>[PROPN, PRON, ADV, VERB, PRON, DET, VERB, CCONJ, PRON, AUX, ADJ, PRON, AUX, PART, PUNCT, SCONJ, PRON, AUX, PART, VERB, PART, PUNCT]</td>\n",
              "    </tr>\n",
              "    <tr>\n",
              "      <th>3</th>\n",
              "      <td>@105836 LiveChat is online at the moment - https://t.co/SY94VtU8Kq or contact 03331 031 031 option 1, 4, 3 (Leave a message) to request a call back</td>\n",
              "      <td>(@105836, LiveChat, is, online, at, the, moment, -, https://t.co/SY94VtU8Kq, or, contact, 03331, 031, 031, option, 1, ,, 4, ,, 3, (, Leave, a, message, ), to, request, a, call, back)</td>\n",
              "      <td>[@105836 LiveChat is online at the moment - https://t.co/SY94VtU8Kq or contact 03331 031 031 option 1, 4, 3 (Leave a message) to request a call back]</td>\n",
              "      <td>[PUNCT, PROPN, AUX, ADV, ADP, DET, NOUN, PUNCT, NOUN, CCONJ, NOUN, NUM, NUM, NUM, NOUN, NUM, PUNCT, NUM, PUNCT, NUM, PUNCT, VERB, DET, NOUN, PUNCT, PART, VERB, DET, NOUN, ADV]</td>\n",
              "    </tr>\n",
              "    <tr>\n",
              "      <th>4</th>\n",
              "      <td>@VirginTrains see attached error message. I've tried leaving a voicemail several times in the past week https://t.co/NxVZjlYx1k</td>\n",
              "      <td>(@VirginTrains, see, attached, error, message, ., I, 've, tried, leaving, a, voicemail, several, times, in, the, past, week, https://t.co/NxVZjlYx1k)</td>\n",
              "      <td>[@VirginTrains see attached error message., I've tried leaving a voicemail several times in the past week https://t.co/NxVZjlYx1k]</td>\n",
              "      <td>[NOUN, VERB, VERB, NOUN, NOUN, PUNCT, PRON, AUX, VERB, VERB, DET, NOUN, ADJ, NOUN, ADP, DET, ADJ, NOUN, SPACE]</td>\n",
              "    </tr>\n",
              "  </tbody>\n",
              "</table>\n",
              "</div>\n",
              "      <button class=\"colab-df-convert\" onclick=\"convertToInteractive('df-853873bc-ebb6-472f-85cd-b821002ddfdd')\"\n",
              "              title=\"Convert this dataframe to an interactive table.\"\n",
              "              style=\"display:none;\">\n",
              "        \n",
              "  <svg xmlns=\"http://www.w3.org/2000/svg\" height=\"24px\"viewBox=\"0 0 24 24\"\n",
              "       width=\"24px\">\n",
              "    <path d=\"M0 0h24v24H0V0z\" fill=\"none\"/>\n",
              "    <path d=\"M18.56 5.44l.94 2.06.94-2.06 2.06-.94-2.06-.94-.94-2.06-.94 2.06-2.06.94zm-11 1L8.5 8.5l.94-2.06 2.06-.94-2.06-.94L8.5 2.5l-.94 2.06-2.06.94zm10 10l.94 2.06.94-2.06 2.06-.94-2.06-.94-.94-2.06-.94 2.06-2.06.94z\"/><path d=\"M17.41 7.96l-1.37-1.37c-.4-.4-.92-.59-1.43-.59-.52 0-1.04.2-1.43.59L10.3 9.45l-7.72 7.72c-.78.78-.78 2.05 0 2.83L4 21.41c.39.39.9.59 1.41.59.51 0 1.02-.2 1.41-.59l7.78-7.78 2.81-2.81c.8-.78.8-2.07 0-2.86zM5.41 20L4 18.59l7.72-7.72 1.47 1.35L5.41 20z\"/>\n",
              "  </svg>\n",
              "      </button>\n",
              "      \n",
              "  <style>\n",
              "    .colab-df-container {\n",
              "      display:flex;\n",
              "      flex-wrap:wrap;\n",
              "      gap: 12px;\n",
              "    }\n",
              "\n",
              "    .colab-df-convert {\n",
              "      background-color: #E8F0FE;\n",
              "      border: none;\n",
              "      border-radius: 50%;\n",
              "      cursor: pointer;\n",
              "      display: none;\n",
              "      fill: #1967D2;\n",
              "      height: 32px;\n",
              "      padding: 0 0 0 0;\n",
              "      width: 32px;\n",
              "    }\n",
              "\n",
              "    .colab-df-convert:hover {\n",
              "      background-color: #E2EBFA;\n",
              "      box-shadow: 0px 1px 2px rgba(60, 64, 67, 0.3), 0px 1px 3px 1px rgba(60, 64, 67, 0.15);\n",
              "      fill: #174EA6;\n",
              "    }\n",
              "\n",
              "    [theme=dark] .colab-df-convert {\n",
              "      background-color: #3B4455;\n",
              "      fill: #D2E3FC;\n",
              "    }\n",
              "\n",
              "    [theme=dark] .colab-df-convert:hover {\n",
              "      background-color: #434B5C;\n",
              "      box-shadow: 0px 1px 3px 1px rgba(0, 0, 0, 0.15);\n",
              "      filter: drop-shadow(0px 1px 2px rgba(0, 0, 0, 0.3));\n",
              "      fill: #FFFFFF;\n",
              "    }\n",
              "  </style>\n",
              "\n",
              "      <script>\n",
              "        const buttonEl =\n",
              "          document.querySelector('#df-853873bc-ebb6-472f-85cd-b821002ddfdd button.colab-df-convert');\n",
              "        buttonEl.style.display =\n",
              "          google.colab.kernel.accessAllowed ? 'block' : 'none';\n",
              "\n",
              "        async function convertToInteractive(key) {\n",
              "          const element = document.querySelector('#df-853873bc-ebb6-472f-85cd-b821002ddfdd');\n",
              "          const dataTable =\n",
              "            await google.colab.kernel.invokeFunction('convertToInteractive',\n",
              "                                                     [key], {});\n",
              "          if (!dataTable) return;\n",
              "\n",
              "          const docLinkHtml = 'Like what you see? Visit the ' +\n",
              "            '<a target=\"_blank\" href=https://colab.research.google.com/notebooks/data_table.ipynb>data table notebook</a>'\n",
              "            + ' to learn more about interactive tables.';\n",
              "          element.innerHTML = '';\n",
              "          dataTable['output_type'] = 'display_data';\n",
              "          await google.colab.output.renderOutput(dataTable, element);\n",
              "          const docLink = document.createElement('div');\n",
              "          docLink.innerHTML = docLinkHtml;\n",
              "          element.appendChild(docLink);\n",
              "        }\n",
              "      </script>\n",
              "    </div>\n",
              "  </div>\n",
              "  "
            ]
          },
          "metadata": {},
          "execution_count": 42
        }
      ]
    },
    {
      "cell_type": "markdown",
      "source": [
        "#lemmatization"
      ],
      "metadata": {
        "id": "cH0X0PDGUnuY"
      }
    },
    {
      "cell_type": "code",
      "source": [
        "df['lemmatized_word']=df['text'].apply(lambda x: [token.lemma_ for token in nlp(x)])"
      ],
      "metadata": {
        "id": "d4o81Mz0UPFa"
      },
      "execution_count": 43,
      "outputs": []
    },
    {
      "cell_type": "code",
      "source": [
        "df.head()"
      ],
      "metadata": {
        "colab": {
          "base_uri": "https://localhost:8080/",
          "height": 840
        },
        "id": "uv-qla8gUhKX",
        "outputId": "eb1a4c02-8236-411b-9828-527718e8557a"
      },
      "execution_count": 44,
      "outputs": [
        {
          "output_type": "execute_result",
          "data": {
            "text/plain": [
              "                                                                                                                                                  text  \\\n",
              "0                                        @AppleSupport causing the reply to be disregarded and the tapped notification under the keyboard is opened😡😡😡   \n",
              "1        @105835 Your business means a lot to us. Please DM your name, zip code and additional details about your concern. ^RR https://t.co/znUu1VJn9r   \n",
              "2                                                               @76328 I really hope you all change but I'm sure you won't! Because you don't have to!   \n",
              "3  @105836 LiveChat is online at the moment - https://t.co/SY94VtU8Kq or contact 03331 031 031 option 1, 4, 3 (Leave a message) to request a call back   \n",
              "4                      @VirginTrains see attached error message. I've tried leaving a voicemail several times in the past week https://t.co/NxVZjlYx1k   \n",
              "\n",
              "                                                                                                                                                                                    token  \\\n",
              "0                                                    (@AppleSupport, causing, the, reply, to, be, disregarded, and, the, tapped, notification, under, the, keyboard, is, opened, 😡, 😡, 😡)   \n",
              "1              (@105835, Your, business, means, a, lot, to, us, ., Please, DM, your, name, ,, zip, code, and, additional, details, about, your, concern, ., ^RR, https://t.co/znUu1VJn9r)   \n",
              "2                                                                      (@76328, I, really, hope, you, all, change, but, I, 'm, sure, you, wo, n't, !, Because, you, do, n't, have, to, !)   \n",
              "3  (@105836, LiveChat, is, online, at, the, moment, -, https://t.co/SY94VtU8Kq, or, contact, 03331, 031, 031, option, 1, ,, 4, ,, 3, (, Leave, a, message, ), to, request, a, call, back)   \n",
              "4                                   (@VirginTrains, see, attached, error, message, ., I, 've, tried, leaving, a, voicemail, several, times, in, the, past, week, https://t.co/NxVZjlYx1k)   \n",
              "\n",
              "                                                                                                                                           sent_tokenize  \\\n",
              "0                                        [@AppleSupport causing the reply to be disregarded and the tapped notification under the keyboard is opened😡😡😡]   \n",
              "1      [@105835 Your business means a lot to us., Please DM your name, zip code and additional details about your concern., ^RR https://t.co/znUu1VJn9r]   \n",
              "2                                                            [@76328, I really hope you all change, but I'm sure you won't!, Because you don't have to!]   \n",
              "3  [@105836 LiveChat is online at the moment - https://t.co/SY94VtU8Kq or contact 03331 031 031 option 1, 4, 3 (Leave a message) to request a call back]   \n",
              "4                     [@VirginTrains see attached error message., I've tried leaving a voicemail several times in the past week https://t.co/NxVZjlYx1k]   \n",
              "\n",
              "                                                                                                                                                                               pos  \\\n",
              "0                                                                   [VERB, VERB, DET, NOUN, PART, AUX, VERB, CCONJ, DET, VERB, NOUN, ADP, DET, NOUN, AUX, VERB, PROPN, NOUN, NOUN]   \n",
              "1                            [NOUN, PRON, NOUN, VERB, DET, NOUN, ADP, PRON, PUNCT, INTJ, VERB, PRON, NOUN, PUNCT, NOUN, NOUN, CCONJ, ADJ, NOUN, ADP, PRON, NOUN, PUNCT, NUM, NOUN]   \n",
              "2                                              [PROPN, PRON, ADV, VERB, PRON, DET, VERB, CCONJ, PRON, AUX, ADJ, PRON, AUX, PART, PUNCT, SCONJ, PRON, AUX, PART, VERB, PART, PUNCT]   \n",
              "3  [PUNCT, PROPN, AUX, ADV, ADP, DET, NOUN, PUNCT, NOUN, CCONJ, NOUN, NUM, NUM, NUM, NOUN, NUM, PUNCT, NUM, PUNCT, NUM, PUNCT, VERB, DET, NOUN, PUNCT, PART, VERB, DET, NOUN, ADV]   \n",
              "4                                                                   [NOUN, VERB, VERB, NOUN, NOUN, PUNCT, PRON, AUX, VERB, VERB, DET, NOUN, ADJ, NOUN, ADP, DET, ADJ, NOUN, SPACE]   \n",
              "\n",
              "                                                                                                                                                                          lemmatized_word  \n",
              "0                                                             [@applesupport, cause, the, reply, to, be, disregard, and, the, tap, notification, under, the, keyboard, be, open, 😡, 😡, 😡]  \n",
              "1                [@105835, your, business, mean, a, lot, to, we, ., please, dm, your, name, ,, zip, code, and, additional, detail, about, your, concern, ., ^rr, https://t.co/znuu1vjn9r]  \n",
              "2                                                                    [@76328, I, really, hope, you, all, change, but, I, be, sure, you, will, not, !, because, you, do, not, have, to, !]  \n",
              "3  [@105836, LiveChat, be, online, at, the, moment, -, https://t.co/sy94vtu8kq, or, contact, 03331, 031, 031, option, 1, ,, 4, ,, 3, (, leave, a, message, ), to, request, a, call, back]  \n",
              "4                                           [@virgintrain, see, attach, error, message, ., I, 've, try, leave, a, voicemail, several, time, in, the, past, week, https://t.co/nxvzjlyx1k]  "
            ],
            "text/html": [
              "\n",
              "  <div id=\"df-f3c3fcb3-239c-4187-b025-bb3971fcd356\">\n",
              "    <div class=\"colab-df-container\">\n",
              "      <div>\n",
              "<style scoped>\n",
              "    .dataframe tbody tr th:only-of-type {\n",
              "        vertical-align: middle;\n",
              "    }\n",
              "\n",
              "    .dataframe tbody tr th {\n",
              "        vertical-align: top;\n",
              "    }\n",
              "\n",
              "    .dataframe thead th {\n",
              "        text-align: right;\n",
              "    }\n",
              "</style>\n",
              "<table border=\"1\" class=\"dataframe\">\n",
              "  <thead>\n",
              "    <tr style=\"text-align: right;\">\n",
              "      <th></th>\n",
              "      <th>text</th>\n",
              "      <th>token</th>\n",
              "      <th>sent_tokenize</th>\n",
              "      <th>pos</th>\n",
              "      <th>lemmatized_word</th>\n",
              "    </tr>\n",
              "  </thead>\n",
              "  <tbody>\n",
              "    <tr>\n",
              "      <th>0</th>\n",
              "      <td>@AppleSupport causing the reply to be disregarded and the tapped notification under the keyboard is opened😡😡😡</td>\n",
              "      <td>(@AppleSupport, causing, the, reply, to, be, disregarded, and, the, tapped, notification, under, the, keyboard, is, opened, 😡, 😡, 😡)</td>\n",
              "      <td>[@AppleSupport causing the reply to be disregarded and the tapped notification under the keyboard is opened😡😡😡]</td>\n",
              "      <td>[VERB, VERB, DET, NOUN, PART, AUX, VERB, CCONJ, DET, VERB, NOUN, ADP, DET, NOUN, AUX, VERB, PROPN, NOUN, NOUN]</td>\n",
              "      <td>[@applesupport, cause, the, reply, to, be, disregard, and, the, tap, notification, under, the, keyboard, be, open, 😡, 😡, 😡]</td>\n",
              "    </tr>\n",
              "    <tr>\n",
              "      <th>1</th>\n",
              "      <td>@105835 Your business means a lot to us. Please DM your name, zip code and additional details about your concern. ^RR https://t.co/znUu1VJn9r</td>\n",
              "      <td>(@105835, Your, business, means, a, lot, to, us, ., Please, DM, your, name, ,, zip, code, and, additional, details, about, your, concern, ., ^RR, https://t.co/znUu1VJn9r)</td>\n",
              "      <td>[@105835 Your business means a lot to us., Please DM your name, zip code and additional details about your concern., ^RR https://t.co/znUu1VJn9r]</td>\n",
              "      <td>[NOUN, PRON, NOUN, VERB, DET, NOUN, ADP, PRON, PUNCT, INTJ, VERB, PRON, NOUN, PUNCT, NOUN, NOUN, CCONJ, ADJ, NOUN, ADP, PRON, NOUN, PUNCT, NUM, NOUN]</td>\n",
              "      <td>[@105835, your, business, mean, a, lot, to, we, ., please, dm, your, name, ,, zip, code, and, additional, detail, about, your, concern, ., ^rr, https://t.co/znuu1vjn9r]</td>\n",
              "    </tr>\n",
              "    <tr>\n",
              "      <th>2</th>\n",
              "      <td>@76328 I really hope you all change but I'm sure you won't! Because you don't have to!</td>\n",
              "      <td>(@76328, I, really, hope, you, all, change, but, I, 'm, sure, you, wo, n't, !, Because, you, do, n't, have, to, !)</td>\n",
              "      <td>[@76328, I really hope you all change, but I'm sure you won't!, Because you don't have to!]</td>\n",
              "      <td>[PROPN, PRON, ADV, VERB, PRON, DET, VERB, CCONJ, PRON, AUX, ADJ, PRON, AUX, PART, PUNCT, SCONJ, PRON, AUX, PART, VERB, PART, PUNCT]</td>\n",
              "      <td>[@76328, I, really, hope, you, all, change, but, I, be, sure, you, will, not, !, because, you, do, not, have, to, !]</td>\n",
              "    </tr>\n",
              "    <tr>\n",
              "      <th>3</th>\n",
              "      <td>@105836 LiveChat is online at the moment - https://t.co/SY94VtU8Kq or contact 03331 031 031 option 1, 4, 3 (Leave a message) to request a call back</td>\n",
              "      <td>(@105836, LiveChat, is, online, at, the, moment, -, https://t.co/SY94VtU8Kq, or, contact, 03331, 031, 031, option, 1, ,, 4, ,, 3, (, Leave, a, message, ), to, request, a, call, back)</td>\n",
              "      <td>[@105836 LiveChat is online at the moment - https://t.co/SY94VtU8Kq or contact 03331 031 031 option 1, 4, 3 (Leave a message) to request a call back]</td>\n",
              "      <td>[PUNCT, PROPN, AUX, ADV, ADP, DET, NOUN, PUNCT, NOUN, CCONJ, NOUN, NUM, NUM, NUM, NOUN, NUM, PUNCT, NUM, PUNCT, NUM, PUNCT, VERB, DET, NOUN, PUNCT, PART, VERB, DET, NOUN, ADV]</td>\n",
              "      <td>[@105836, LiveChat, be, online, at, the, moment, -, https://t.co/sy94vtu8kq, or, contact, 03331, 031, 031, option, 1, ,, 4, ,, 3, (, leave, a, message, ), to, request, a, call, back]</td>\n",
              "    </tr>\n",
              "    <tr>\n",
              "      <th>4</th>\n",
              "      <td>@VirginTrains see attached error message. I've tried leaving a voicemail several times in the past week https://t.co/NxVZjlYx1k</td>\n",
              "      <td>(@VirginTrains, see, attached, error, message, ., I, 've, tried, leaving, a, voicemail, several, times, in, the, past, week, https://t.co/NxVZjlYx1k)</td>\n",
              "      <td>[@VirginTrains see attached error message., I've tried leaving a voicemail several times in the past week https://t.co/NxVZjlYx1k]</td>\n",
              "      <td>[NOUN, VERB, VERB, NOUN, NOUN, PUNCT, PRON, AUX, VERB, VERB, DET, NOUN, ADJ, NOUN, ADP, DET, ADJ, NOUN, SPACE]</td>\n",
              "      <td>[@virgintrain, see, attach, error, message, ., I, 've, try, leave, a, voicemail, several, time, in, the, past, week, https://t.co/nxvzjlyx1k]</td>\n",
              "    </tr>\n",
              "  </tbody>\n",
              "</table>\n",
              "</div>\n",
              "      <button class=\"colab-df-convert\" onclick=\"convertToInteractive('df-f3c3fcb3-239c-4187-b025-bb3971fcd356')\"\n",
              "              title=\"Convert this dataframe to an interactive table.\"\n",
              "              style=\"display:none;\">\n",
              "        \n",
              "  <svg xmlns=\"http://www.w3.org/2000/svg\" height=\"24px\"viewBox=\"0 0 24 24\"\n",
              "       width=\"24px\">\n",
              "    <path d=\"M0 0h24v24H0V0z\" fill=\"none\"/>\n",
              "    <path d=\"M18.56 5.44l.94 2.06.94-2.06 2.06-.94-2.06-.94-.94-2.06-.94 2.06-2.06.94zm-11 1L8.5 8.5l.94-2.06 2.06-.94-2.06-.94L8.5 2.5l-.94 2.06-2.06.94zm10 10l.94 2.06.94-2.06 2.06-.94-2.06-.94-.94-2.06-.94 2.06-2.06.94z\"/><path d=\"M17.41 7.96l-1.37-1.37c-.4-.4-.92-.59-1.43-.59-.52 0-1.04.2-1.43.59L10.3 9.45l-7.72 7.72c-.78.78-.78 2.05 0 2.83L4 21.41c.39.39.9.59 1.41.59.51 0 1.02-.2 1.41-.59l7.78-7.78 2.81-2.81c.8-.78.8-2.07 0-2.86zM5.41 20L4 18.59l7.72-7.72 1.47 1.35L5.41 20z\"/>\n",
              "  </svg>\n",
              "      </button>\n",
              "      \n",
              "  <style>\n",
              "    .colab-df-container {\n",
              "      display:flex;\n",
              "      flex-wrap:wrap;\n",
              "      gap: 12px;\n",
              "    }\n",
              "\n",
              "    .colab-df-convert {\n",
              "      background-color: #E8F0FE;\n",
              "      border: none;\n",
              "      border-radius: 50%;\n",
              "      cursor: pointer;\n",
              "      display: none;\n",
              "      fill: #1967D2;\n",
              "      height: 32px;\n",
              "      padding: 0 0 0 0;\n",
              "      width: 32px;\n",
              "    }\n",
              "\n",
              "    .colab-df-convert:hover {\n",
              "      background-color: #E2EBFA;\n",
              "      box-shadow: 0px 1px 2px rgba(60, 64, 67, 0.3), 0px 1px 3px 1px rgba(60, 64, 67, 0.15);\n",
              "      fill: #174EA6;\n",
              "    }\n",
              "\n",
              "    [theme=dark] .colab-df-convert {\n",
              "      background-color: #3B4455;\n",
              "      fill: #D2E3FC;\n",
              "    }\n",
              "\n",
              "    [theme=dark] .colab-df-convert:hover {\n",
              "      background-color: #434B5C;\n",
              "      box-shadow: 0px 1px 3px 1px rgba(0, 0, 0, 0.15);\n",
              "      filter: drop-shadow(0px 1px 2px rgba(0, 0, 0, 0.3));\n",
              "      fill: #FFFFFF;\n",
              "    }\n",
              "  </style>\n",
              "\n",
              "      <script>\n",
              "        const buttonEl =\n",
              "          document.querySelector('#df-f3c3fcb3-239c-4187-b025-bb3971fcd356 button.colab-df-convert');\n",
              "        buttonEl.style.display =\n",
              "          google.colab.kernel.accessAllowed ? 'block' : 'none';\n",
              "\n",
              "        async function convertToInteractive(key) {\n",
              "          const element = document.querySelector('#df-f3c3fcb3-239c-4187-b025-bb3971fcd356');\n",
              "          const dataTable =\n",
              "            await google.colab.kernel.invokeFunction('convertToInteractive',\n",
              "                                                     [key], {});\n",
              "          if (!dataTable) return;\n",
              "\n",
              "          const docLinkHtml = 'Like what you see? Visit the ' +\n",
              "            '<a target=\"_blank\" href=https://colab.research.google.com/notebooks/data_table.ipynb>data table notebook</a>'\n",
              "            + ' to learn more about interactive tables.';\n",
              "          element.innerHTML = '';\n",
              "          dataTable['output_type'] = 'display_data';\n",
              "          await google.colab.output.renderOutput(dataTable, element);\n",
              "          const docLink = document.createElement('div');\n",
              "          docLink.innerHTML = docLinkHtml;\n",
              "          element.appendChild(docLink);\n",
              "        }\n",
              "      </script>\n",
              "    </div>\n",
              "  </div>\n",
              "  "
            ]
          },
          "metadata": {},
          "execution_count": 44
        }
      ]
    },
    {
      "cell_type": "markdown",
      "source": [
        "#Named Intity Recognition"
      ],
      "metadata": {
        "id": "5uVRaI2jYBFj"
      }
    },
    {
      "cell_type": "code",
      "source": [
        "doc=nlp('Tesla Inc and BYJUS are Narendra Modi in Australia' )"
      ],
      "metadata": {
        "id": "O2aKsuPVVPjH"
      },
      "execution_count": 56,
      "outputs": []
    },
    {
      "cell_type": "code",
      "source": [
        "for ent in doc.ents:\n",
        "  print(ent.text,' | ',ent.label_,' | ',spacy.explain(ent.label_))"
      ],
      "metadata": {
        "colab": {
          "base_uri": "https://localhost:8080/"
        },
        "id": "p6Gonej1XO8B",
        "outputId": "a5f726a5-b0d3-47e1-a820-841c70d6f1bb"
      },
      "execution_count": 54,
      "outputs": [
        {
          "output_type": "stream",
          "name": "stdout",
          "text": [
            "Tesla Inc  |  ORG  |  Companies, agencies, institutions, etc.\n",
            "BYJUS  |  PERSON  |  People, including fictional\n",
            "Narendra Modi  |  PERSON  |  People, including fictional\n",
            "Australia  |  GPE  |  Countries, cities, states\n"
          ]
        }
      ]
    },
    {
      "cell_type": "code",
      "source": [
        "nlp.pipe_labels['ner']"
      ],
      "metadata": {
        "colab": {
          "base_uri": "https://localhost:8080/"
        },
        "id": "zTmHKa_bkBpz",
        "outputId": "ce870de0-7a10-4138-e84e-abab34507f23"
      },
      "execution_count": 77,
      "outputs": [
        {
          "output_type": "execute_result",
          "data": {
            "text/plain": [
              "['CARDINAL',\n",
              " 'DATE',\n",
              " 'EVENT',\n",
              " 'FAC',\n",
              " 'GPE',\n",
              " 'LANGUAGE',\n",
              " 'LAW',\n",
              " 'LOC',\n",
              " 'MONEY',\n",
              " 'NORP',\n",
              " 'ORDINAL',\n",
              " 'ORG',\n",
              " 'PERCENT',\n",
              " 'PERSON',\n",
              " 'PRODUCT',\n",
              " 'QUANTITY',\n",
              " 'TIME',\n",
              " 'WORK_OF_ART']"
            ]
          },
          "metadata": {},
          "execution_count": 77
        }
      ]
    },
    {
      "cell_type": "markdown",
      "source": [
        "#Customization"
      ],
      "metadata": {
        "id": "DnhBKKY2a-yO"
      }
    },
    {
      "cell_type": "code",
      "source": [
        "doc1=nlp('Bro where were you i was searching you brah,you wanna go i am tired')"
      ],
      "metadata": {
        "id": "pu8sAVXRbCJ7"
      },
      "execution_count": 63,
      "outputs": []
    },
    {
      "cell_type": "code",
      "source": [
        "for token in doc1:\n",
        "  print(token,' | ',token.lemma_)"
      ],
      "metadata": {
        "colab": {
          "base_uri": "https://localhost:8080/"
        },
        "id": "CmehYY-vbWiR",
        "outputId": "962b5e81-74ae-40d2-c003-b5bc03063a6a"
      },
      "execution_count": 64,
      "outputs": [
        {
          "output_type": "stream",
          "name": "stdout",
          "text": [
            "Bro  |  Bro\n",
            "where  |  where\n",
            "were  |  be\n",
            "you  |  you\n",
            "i  |  I\n",
            "was  |  be\n",
            "searching  |  search\n",
            "you  |  you\n",
            "brah  |  brah\n",
            ",  |  ,\n",
            "you  |  you\n",
            "wanna  |  wanna\n",
            "go  |  go\n",
            "i  |  I\n",
            "am  |  be\n",
            "tired  |  tired\n"
          ]
        }
      ]
    },
    {
      "cell_type": "code",
      "source": [
        "ar=nlp.get_pipe(\"attribute_ruler\")\n",
        "ar.add([[{'TEXT':'Bro'}],[{'TEXT':'brah'}]],{'LEMMA':'Brother'})\n",
        "doc2=nlp('Bro where were you i was searching you brah,you wanna go i am tired')\n",
        "for token in doc2:\n",
        "  print(token,' | ',token.lemma_)"
      ],
      "metadata": {
        "colab": {
          "base_uri": "https://localhost:8080/"
        },
        "id": "YyHNbmj_buL5",
        "outputId": "98766918-99e6-490a-f55d-79cb86a45eb4"
      },
      "execution_count": 68,
      "outputs": [
        {
          "output_type": "stream",
          "name": "stdout",
          "text": [
            "Bro  |  Brother\n",
            "where  |  where\n",
            "were  |  be\n",
            "you  |  you\n",
            "i  |  I\n",
            "was  |  be\n",
            "searching  |  search\n",
            "you  |  you\n",
            "brah  |  Brother\n",
            ",  |  ,\n",
            "you  |  you\n",
            "wanna  |  wanna\n",
            "go  |  go\n",
            "i  |  I\n",
            "am  |  be\n",
            "tired  |  tired\n"
          ]
        }
      ]
    }
  ]
}